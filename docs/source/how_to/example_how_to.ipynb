{
 "cells": [
  {
   "cell_type": "markdown",
   "id": "b1fa989d",
   "metadata": {},
   "source": [
    "# A how-to that is nothing more than a jupyter notebook"
   ]
  },
  {
   "cell_type": "markdown",
   "id": "8e23b31f",
   "metadata": {},
   "source": [
    "Using jupyter notebooks inside docs is very simple: it only requires `nbsphinx` and `pandoc`.\n",
    "\n",
    "This way, you can add any tutorials and how-tos to your code while ensuring all the commands you are using are working properly."
   ]
  },
  {
   "cell_type": "code",
   "execution_count": 1,
   "id": "62323d53",
   "metadata": {},
   "outputs": [
    {
     "data": {
      "text/plain": [
       "3"
      ]
     },
     "execution_count": 1,
     "metadata": {},
     "output_type": "execute_result"
    }
   ],
   "source": [
    "from pyretem.module1 import compute_something\n",
    "\n",
    "a = 1\n",
    "b = 2\n",
    "compute_something(a, b)"
   ]
  },
  {
   "cell_type": "markdown",
   "id": "f1fe74ef",
   "metadata": {},
   "source": [
    "Have you also noticed the nice copy button? (`sphinx-copybutton`, nothing else)."
   ]
  }
 ],
 "metadata": {
  "kernelspec": {
   "display_name": "Python 3",
   "language": "python",
   "name": "python3"
  },
  "language_info": {
   "codemirror_mode": {
    "name": "ipython",
    "version": 3
   },
   "file_extension": ".py",
   "mimetype": "text/x-python",
   "name": "python",
   "nbconvert_exporter": "python",
   "pygments_lexer": "ipython3",
   "version": "3.9.4"
  }
 },
 "nbformat": 4,
 "nbformat_minor": 5
}
